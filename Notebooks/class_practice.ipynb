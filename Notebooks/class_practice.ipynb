{
 "cells": [
  {
   "cell_type": "markdown",
   "id": "42c3b478-838e-450e-a59b-b40df1de224d",
   "metadata": {},
   "source": [
    "## we can do maths using python.\n",
    "\n",
    "### Here I will write during Practice."
   ]
  },
  {
   "cell_type": "markdown",
   "id": "a6558b37-b51e-4171-8e82-7881a2e35323",
   "metadata": {},
   "source": [
    "## 1. We can add using pyhton."
   ]
  },
  {
   "cell_type": "code",
   "execution_count": 1,
   "id": "35b0c898-9ec7-41a1-8d70-ad87b7d31c87",
   "metadata": {},
   "outputs": [
    {
     "data": {
      "text/plain": [
       "7"
      ]
     },
     "execution_count": 1,
     "metadata": {},
     "output_type": "execute_result"
    }
   ],
   "source": [
    "3 + 4"
   ]
  },
  {
   "cell_type": "markdown",
   "id": "2c54b8d8-7b13-4dfb-ae2d-9e371a34414a",
   "metadata": {},
   "source": [
    "## 2. We can create strings"
   ]
  },
  {
   "cell_type": "code",
   "execution_count": 2,
   "id": "740dc723-8787-47ee-a5da-230d32ff1dcf",
   "metadata": {},
   "outputs": [],
   "source": [
    "name = \"Mark\""
   ]
  },
  {
   "cell_type": "code",
   "execution_count": 3,
   "id": "0906c309-4494-4d9f-905a-e82529d45999",
   "metadata": {},
   "outputs": [
    {
     "name": "stdout",
     "output_type": "stream",
     "text": [
      "My name is Mark\n"
     ]
    }
   ],
   "source": [
    "print(\"My name is \" + name)"
   ]
  },
  {
   "cell_type": "code",
   "execution_count": 4,
   "id": "2025da4e-184f-4d25-b4ce-bb9af542ad0d",
   "metadata": {},
   "outputs": [
    {
     "name": "stdout",
     "output_type": "stream",
     "text": [
      "00.ipynb  02.ipynb  04.ipynb  06.ipynb  08.ipynb  10.ipynb\n",
      "01.ipynb  03.ipynb  05.ipynb  07.ipynb  09.ipynb  class_practice.ipynb\n"
     ]
    }
   ],
   "source": [
    "ls"
   ]
  },
  {
   "cell_type": "code",
   "execution_count": null,
   "id": "744364af-3545-41be-9c0a-3876cb4f6876",
   "metadata": {},
   "outputs": [],
   "source": []
  }
 ],
 "metadata": {
  "kernelspec": {
   "display_name": "Python 3 (ipykernel)",
   "language": "python",
   "name": "python3"
  },
  "language_info": {
   "codemirror_mode": {
    "name": "ipython",
    "version": 3
   },
   "file_extension": ".py",
   "mimetype": "text/x-python",
   "name": "python",
   "nbconvert_exporter": "python",
   "pygments_lexer": "ipython3",
   "version": "3.9.7"
  }
 },
 "nbformat": 4,
 "nbformat_minor": 5
}
